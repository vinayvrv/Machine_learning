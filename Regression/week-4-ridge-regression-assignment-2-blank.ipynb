{
 "cells": [
  {
   "cell_type": "markdown",
   "metadata": {},
   "source": [
    "# Regression Week 4: Ridge Regression (gradient descent)"
   ]
  },
  {
   "cell_type": "markdown",
   "metadata": {},
   "source": [
    "In this notebook, you will implement ridge regression via gradient descent. You will:\n",
    "* Convert an SFrame into a Numpy array\n",
    "* Write a Numpy function to compute the derivative of the regression weights with respect to a single feature\n",
    "* Write gradient descent function to compute the regression weights given an initial weight vector, step size, tolerance, and L2 penalty"
   ]
  },
  {
   "cell_type": "markdown",
   "metadata": {},
   "source": [
    "# Fire up graphlab create"
   ]
  },
  {
   "cell_type": "markdown",
   "metadata": {},
   "source": [
    "Make sure you have the latest version of GraphLab Create (>= 1.7)"
   ]
  },
  {
   "cell_type": "code",
   "execution_count": 1,
   "metadata": {
    "collapsed": false
   },
   "outputs": [],
   "source": [
    "import graphlab"
   ]
  },
  {
   "cell_type": "markdown",
   "metadata": {},
   "source": [
    "# Load in house sales data\n",
    "\n",
    "Dataset is from house sales in King County, the region where the city of Seattle, WA is located."
   ]
  },
  {
   "cell_type": "code",
   "execution_count": 2,
   "metadata": {
    "collapsed": false
   },
   "outputs": [
    {
     "name": "stderr",
     "output_type": "stream",
     "text": [
      "[INFO] graphlab.cython.cy_server: GraphLab Create v2.1 started. Logging: C:\\Users\\Vinay\\AppData\\Local\\Temp\\graphlab_server_1475866867.log.0\n"
     ]
    },
    {
     "name": "stdout",
     "output_type": "stream",
     "text": [
      "This non-commercial license of GraphLab Create for academic use is assigned to vrvernek@iu.edu and will expire on November 25, 2016.\n"
     ]
    },
    {
     "data": {
      "text/html": [
       "<pre>Finished parsing file C:\\Third Sem\\Machine Learning\\Assignment_2\\datasets\\slice_localization_data1.csv</pre>"
      ],
      "text/plain": [
       "Finished parsing file C:\\Third Sem\\Machine Learning\\Assignment_2\\datasets\\slice_localization_data1.csv"
      ]
     },
     "metadata": {},
     "output_type": "display_data"
    },
    {
     "data": {
      "text/html": [
       "<pre>Parsing completed. Parsed 100 lines in 0.953225 secs.</pre>"
      ],
      "text/plain": [
       "Parsing completed. Parsed 100 lines in 0.953225 secs."
      ]
     },
     "metadata": {},
     "output_type": "display_data"
    },
    {
     "name": "stdout",
     "output_type": "stream",
     "text": [
      "------------------------------------------------------\n",
      "Inferred types from first 100 line(s) of file as \n",
      "column_type_hints=[long,long,long,long,long,long,long,float,float,float,float,float,float,float,float,float,long,long,float,float,float,float,float,float,float,float,float,float,long,long,float,float,float,float,float,float,float,float,long,float,float,float,float,float,float,float,float,float,float,float,float,float,float,float,float,float,float,float,float,float,float,float,float,float,float,float,float,float,float,float,float,float,float,float,float,float,float,float,float,float,float,long,long,float,float,float,float,long,long,float,float,float,long,float,float,float,float,long,long,long,float,float,float,float,float,float,float,float,float,float,float,float,long,long,long,float,float,float,float,float,float,float,float,long,long,float,float,float,float,float,float,float,float,float,float,long,float,float,float,float,float,float,float,float,float,float,float,float,float,float,float,float,float,float,float,float,long,long,long,float,float,float,float,float,float,float,long,float,float,float,float,float,float,float,float,float,long,float,float,float,float,float,float,float,float,float,long,float,float,float,float,float,float,float,float,float,float,float,float,float,float,float,float,float,float,float,float,float,long,float,float,float,float,float,float,float,float,float,float,long,float,float,float,float,float,float,float,float,float,float,float,float,float,float,float,float,float,float,float,float,float,float,float,float,float,float,long,float,float,float,float,float,float,long,long,long,float,float,float,float,float,long,long,long,float,float,long,float,float,float,long,float,float,float,float,long,float,float,float,float,float,float,float,float,float,float,long,float,float,float,float,float,float,float,long,long,float,float,float,float,float,float,float,long,float,float,float,float,float,float,float,float,float,float,float,float,float,float,float,float,float,float,float,float,float,float,float,long,float,float,long,long,long,long,long,long,float,float,long,long,long,long,long,float,float,float,float,float,long,long,float,float,float,float,float,float,float,float,long,float,float,float,float,float,float,float,long,long,float,float,float,float,float,float,long,long,float,float,float,float,float,float,long,float,float,float]\n",
      "If parsing fails due to incorrect types, you can correct\n",
      "the inferred type list above and pass it to read_csv in\n",
      "the column_type_hints argument\n",
      "------------------------------------------------------\n"
     ]
    },
    {
     "data": {
      "text/html": [
       "<pre>Read 34336 lines. Lines per second: 17149.7</pre>"
      ],
      "text/plain": [
       "Read 34336 lines. Lines per second: 17149.7"
      ]
     },
     "metadata": {},
     "output_type": "display_data"
    },
    {
     "data": {
      "text/html": [
       "<pre>Finished parsing file C:\\Third Sem\\Machine Learning\\Assignment_2\\datasets\\slice_localization_data1.csv</pre>"
      ],
      "text/plain": [
       "Finished parsing file C:\\Third Sem\\Machine Learning\\Assignment_2\\datasets\\slice_localization_data1.csv"
      ]
     },
     "metadata": {},
     "output_type": "display_data"
    },
    {
     "data": {
      "text/html": [
       "<pre>Parsing completed. Parsed 53500 lines in 2.22091 secs.</pre>"
      ],
      "text/plain": [
       "Parsing completed. Parsed 53500 lines in 2.22091 secs."
      ]
     },
     "metadata": {},
     "output_type": "display_data"
    }
   ],
   "source": [
    "ctscan = graphlab.SFrame.read_csv(\"C:\\Third Sem\\Machine Learning\\Assignment_2\\datasets\\slice_localization_data1.csv\", header=True)"
   ]
  },
  {
   "cell_type": "markdown",
   "metadata": {},
   "source": [
    "If we want to do any \"feature engineering\" like creating new features or adjusting existing ones we should do this directly using the SFrames as seen in the first notebook of Week 2. For this notebook, however, we will work with the existing features."
   ]
  },
  {
   "cell_type": "markdown",
   "metadata": {},
   "source": [
    "# Import useful functions from previous notebook"
   ]
  },
  {
   "cell_type": "markdown",
   "metadata": {},
   "source": [
    "As in Week 2, we convert the SFrame into a 2D Numpy array. Copy and paste `get_numpy_data()` from the second notebook of Week 2."
   ]
  },
  {
   "cell_type": "code",
   "execution_count": 3,
   "metadata": {
    "collapsed": true
   },
   "outputs": [],
   "source": [
    "import numpy as np # note this allows us to refer to numpy as np instead "
   ]
  },
  {
   "cell_type": "code",
   "execution_count": 4,
   "metadata": {
    "collapsed": false
   },
   "outputs": [],
   "source": [
    "def predict_output(feature_matrix, weights):\n",
    "    # assume feature_matrix is a numpy matrix containing the features as columns and weights is a corresponding numpy array\n",
    "    \n",
    "    # create the predictions vector by using np.dot()\n",
    "    predictions = np.dot(feature_matrix, weights)\n",
    "\n",
    "    return(predictions)"
   ]
  },
  {
   "cell_type": "markdown",
   "metadata": {},
   "source": [
    "Also, copy and paste the `predict_output()` function to compute the predictions for an entire matrix of features given the matrix and the weights:"
   ]
  },
  {
   "cell_type": "code",
   "execution_count": 5,
   "metadata": {
    "collapsed": true
   },
   "outputs": [],
   "source": [
    "def get_numpy_data(data_sframe, features, output):\n",
    "    data_sframe['constant'] = 1 # this is how you add a constant column to an SFrame\n",
    "    # add the column 'constant' to the front of the features list so that we can extract it along with the others:\n",
    "    features = ['constant'] + features # this is how you combine two lists\n",
    "    # select the columns of data_SFrame given by the features list into the SFrame features_sframe (now including constant):\n",
    "    features_sframe=data_sframe[features]\n",
    "    # the following line will convert the features_SFrame into a numpy matrix:\n",
    "    feature_matrix = features_sframe.to_numpy()\n",
    "    # assign the column of data_sframe associated with the output to the SArray output_sarray\n",
    "    #output_sarray=data_sframe['price']\n",
    "    output_sarray=data_sframe[output]\n",
    "\n",
    "    # the following will convert the SArray into a numpy array by first converting it to a list\n",
    "    output_array = output_sarray.to_numpy()\n",
    "    return(feature_matrix, output_array)"
   ]
  },
  {
   "cell_type": "markdown",
   "metadata": {},
   "source": [
    "# Computing the Derivative"
   ]
  },
  {
   "cell_type": "markdown",
   "metadata": {},
   "source": [
    "We are now going to move to computing the derivative of the regression cost function. Recall that the cost function is the sum over the data points of the squared difference between an observed output and a predicted output, plus the L2 penalty term.\n",
    "```\n",
    "Cost(w)\n",
    "= SUM[ (prediction - output)^2 ]\n",
    "+ l2_penalty*(w[0]^2 + w[1]^2 + ... + w[k]^2).\n",
    "```\n",
    "\n",
    "Since the derivative of a sum is the sum of the derivatives, we can take the derivative of the first part (the RSS) as we did in the notebook for the unregularized case in Week 2 and add the derivative of the regularization part.  As we saw, the derivative of the RSS with respect to `w[i]` can be written as: \n",
    "```\n",
    "2*SUM[ error*[feature_i] ].\n",
    "```\n",
    "The derivative of the regularization term with respect to `w[i]` is:\n",
    "```\n",
    "2*l2_penalty*w[i].\n",
    "```\n",
    "Summing both, we get\n",
    "```\n",
    "2*SUM[ error*[feature_i] ] + 2*l2_penalty*w[i].\n",
    "```\n",
    "That is, the derivative for the weight for feature i is the sum (over data points) of 2 times the product of the error and the feature itself, plus `2*l2_penalty*w[i]`. \n",
    "\n",
    "**We will not regularize the constant.**  Thus, in the case of the constant, the derivative is just twice the sum of the errors (without the `2*l2_penalty*w[0]` term).\n",
    "\n",
    "Recall that twice the sum of the product of two vectors is just twice the dot product of the two vectors. Therefore the derivative for the weight for feature_i is just two times the dot product between the values of feature_i and the current errors, plus `2*l2_penalty*w[i]`.\n",
    "\n",
    "With this in mind complete the following derivative function which computes the derivative of the weight given the value of the feature (over all data points) and the errors (over all data points).  To decide when to we are dealing with the constant (so we don't regularize it) we added the extra parameter to the call `feature_is_constant` which you should set to `True` when computing the derivative of the constant and `False` otherwise."
   ]
  },
  {
   "cell_type": "code",
   "execution_count": 6,
   "metadata": {
    "collapsed": true
   },
   "outputs": [],
   "source": [
    "def feature_derivative_ridge(errors, feature, weight, l2_penalty, feature_is_constant):\n",
    "    # If feature_is_constant is True, derivative is twice the dot product of errors and feature\n",
    "    if feature_is_constant==True:\n",
    "        derivative= 2*np.dot(errors,feature)\n",
    "    else:\n",
    "        derivative= 2*np.dot(errors,feature)+2*(l2_penalty*weight)\n",
    "    \n",
    "        \n",
    "    \n",
    "    # Otherwise, derivative is twice the dot product plus 2*l2_penalty*weight\n",
    "    \n",
    "    return derivative"
   ]
  },
  {
   "cell_type": "markdown",
   "metadata": {},
   "source": [
    "To test your feature derivartive run the following:"
   ]
  },
  {
   "cell_type": "code",
   "execution_count": 58,
   "metadata": {
    "collapsed": false
   },
   "outputs": [
    {
     "name": "stdout",
     "output_type": "stream",
     "text": [
      "84592168.5885\n",
      "84592186.5885\n",
      "\n",
      "112119.796838\n",
      "112119.796838\n"
     ]
    }
   ],
   "source": [
    "(example_features, example_output) = get_numpy_data(ctscan, ['1','2'], '386') \n",
    "my_weights = np.array([1.,1., 10.])\n",
    "test_predictions = predict_output(example_features, my_weights) \n",
    "errors = test_predictions - example_output # prediction errors\n",
    "\n",
    "# next two lines should print the same values\n",
    "print feature_derivative_ridge(errors, example_features[:,1], my_weights[1], 1, False)\n",
    "print np.sum(errors*example_features[:,1])*2+20.\n",
    "print ''\n",
    "\n",
    "# next two lines should print the same values\n",
    "print feature_derivative_ridge(errors, example_features[:,0], my_weights[0], 1, True)\n",
    "print np.sum(errors)*2."
   ]
  },
  {
   "cell_type": "code",
   "execution_count": 9,
   "metadata": {
    "collapsed": false
   },
   "outputs": [
    {
     "data": {
      "text/plain": [
       "array([[ 1,  0],\n",
       "       [ 1,  0],\n",
       "       [ 1,  0],\n",
       "       ..., \n",
       "       [ 1, 96],\n",
       "       [ 1, 96],\n",
       "       [ 1, 96]], dtype=int64)"
      ]
     },
     "execution_count": 9,
     "metadata": {},
     "output_type": "execute_result"
    }
   ],
   "source": [
    "example_features"
   ]
  },
  {
   "cell_type": "markdown",
   "metadata": {},
   "source": [
    "# Gradient Descent"
   ]
  },
  {
   "cell_type": "markdown",
   "metadata": {},
   "source": [
    "Now we will write a function that performs a gradient descent. The basic premise is simple. Given a starting point we update the current weights by moving in the negative gradient direction. Recall that the gradient is the direction of *increase* and therefore the negative gradient is the direction of *decrease* and we're trying to *minimize* a cost function. \n",
    "\n",
    "The amount by which we move in the negative gradient *direction*  is called the 'step size'. We stop when we are 'sufficiently close' to the optimum. Unlike in Week 2, this time we will set a **maximum number of iterations** and take gradient steps until we reach this maximum number. If no maximum number is supplied, the maximum should be set 100 by default. (Use default parameter values in Python.)\n",
    "\n",
    "With this in mind, complete the following gradient descent function below using your derivative function above. For each step in the gradient descent, we update the weight for each feature before computing our stopping criteria."
   ]
  },
  {
   "cell_type": "code",
   "execution_count": 100,
   "metadata": {
    "collapsed": false
   },
   "outputs": [],
   "source": [
    "def ridge_regression_gradient_descent(feature_matrix, output, initial_weights, step_size, l2_penalty, max_iterations):\n",
    "    weights = np.array(initial_weights) # make sure it's a numpy array\n",
    "    iters = 0\n",
    "    #while not reached maximum number of iterations:\n",
    "    while iters < max_iterations:\n",
    "        # compute the predictions based on feature_matrix and weights using your predict_output() function\n",
    "        predictions = predict_output(feature_matrix, weights) \n",
    "        # compute the errors as predictions - output\n",
    "        errors = predictions - output\n",
    "        for i in xrange(len(weights)): # loop over each weight\n",
    "            # Recall that feature_matrix[:,i] is the feature column associated with weights[i]\n",
    "            # compute the derivative for weight[i].\n",
    "            #(Remember: when i=0, you are computing the derivative of the constant!)\n",
    "            if i == 0:\n",
    "                derivative = feature_derivative_ridge(errors, feature_matrix[:,0], weights[0], l2_penalty, True)\n",
    "                #weights[i] = 0\n",
    "            else:\n",
    "                derivative = feature_derivative_ridge(errors, feature_matrix[:,i], weights[i], l2_penalty, False) \n",
    "                weights[i] = weights[i] - step_size*derivative\n",
    "            # subtract the step size times the derivative from the current weight\n",
    "        iters = iters + 1\n",
    "    return weights"
   ]
  },
  {
   "cell_type": "markdown",
   "metadata": {},
   "source": [
    "# Visualizing effect of L2 penalty"
   ]
  },
  {
   "cell_type": "markdown",
   "metadata": {},
   "source": [
    "The L2 penalty gets its name because it causes weights to have small L2 norms than otherwise. Let's see how large weights get penalized. Let us consider a simple model with 1 feature:"
   ]
  },
  {
   "cell_type": "code",
   "execution_count": 67,
   "metadata": {
    "collapsed": false
   },
   "outputs": [
    {
     "name": "stdout",
     "output_type": "stream",
     "text": [
      "385\n"
     ]
    }
   ],
   "source": [
    "simple_features = [str(i) for i in range(1,386)]\n",
    "print len(simple_features)\n",
    "my_output = '386'"
   ]
  },
  {
   "cell_type": "markdown",
   "metadata": {},
   "source": [
    "Let us split the dataset into training set and test set. Make sure to use `seed=0`:"
   ]
  },
  {
   "cell_type": "code",
   "execution_count": 68,
   "metadata": {
    "collapsed": true
   },
   "outputs": [],
   "source": [
    "train_data,test_data = ctscan.random_split(.8,seed=0)"
   ]
  },
  {
   "cell_type": "code",
   "execution_count": 69,
   "metadata": {
    "collapsed": true
   },
   "outputs": [],
   "source": [
    "(simple_feature_matrix, output) = get_numpy_data(train_data, simple_features, my_output)\n",
    "(simple_test_feature_matrix, test_output) = get_numpy_data(test_data, simple_features, my_output)"
   ]
  },
  {
   "cell_type": "markdown",
   "metadata": {},
   "source": [
    "In this part, we will only use `'sqft_living'` to predict `'price'`. Use the `get_numpy_data` function to get a Numpy versions of your data with only this feature, for both the `train_data` and the `test_data`. "
   ]
  },
  {
   "cell_type": "markdown",
   "metadata": {},
   "source": [
    "Let's set the parameters for our optimization:"
   ]
  },
  {
   "cell_type": "code",
   "execution_count": 110,
   "metadata": {
    "collapsed": false
   },
   "outputs": [
    {
     "name": "stdout",
     "output_type": "stream",
     "text": [
      "386\n"
     ]
    }
   ],
   "source": [
    "initial_weights = np.zeros(len(simple_features)+1)\n",
    "print len(initial_weights)\n",
    "step_size = 1e-12\n",
    "max_iterations=10000"
   ]
  },
  {
   "cell_type": "code",
   "execution_count": null,
   "metadata": {
    "collapsed": true
   },
   "outputs": [],
   "source": []
  },
  {
   "cell_type": "markdown",
   "metadata": {},
   "source": [
    "First, let's consider no regularization.  Set the `l2_penalty` to `0.0` and run your ridge regression algorithm to learn the weights of your model.  Call your weights:\n",
    "\n",
    "`simple_weights_0_penalty`\n",
    "\n",
    "we'll use them later."
   ]
  },
  {
   "cell_type": "code",
   "execution_count": 111,
   "metadata": {
    "collapsed": false
   },
   "outputs": [
    {
     "name": "stdout",
     "output_type": "stream",
     "text": [
      "[  0.00000000e+00   5.37690965e-01   0.00000000e+00   1.87834068e-07\n",
      "   4.36840654e-07   0.00000000e+00   0.00000000e+00   0.00000000e+00\n",
      "   3.35484675e-03   1.11699638e-03  -6.32791511e-04  -3.26264841e-03\n",
      "   6.13414479e-04   8.87275697e-04   1.83558280e-03   2.31144838e-03\n",
      "   2.99377036e-03   0.00000000e+00   0.00000000e+00   4.15568554e-04\n",
      "   2.41260248e-04  -7.11998483e-04   7.77459366e-04   1.08962165e-03\n",
      "   1.53497542e-03   1.78681976e-03   1.55971127e-03   9.96589797e-04\n",
      "   5.16253851e-04   0.00000000e+00   0.00000000e+00  -3.64531586e-05\n",
      "   8.88405361e-04   1.25694315e-03   1.49616873e-03   1.66234107e-03\n",
      "   1.13765505e-03   5.53980911e-04  -7.31663474e-06   0.00000000e+00\n",
      "  -1.90485800e-03  -3.12597022e-03   8.48214701e-04   1.27671102e-03\n",
      "   1.67622115e-03   1.35268114e-03   7.74156903e-04   9.20307229e-05\n",
      "  -1.37435022e-03  -2.96161538e-03  -3.38514054e-03  -3.38609761e-03\n",
      "   8.02367138e-04   1.45073448e-03   1.80957945e-03   1.62945009e-03\n",
      "   1.04510351e-03  -5.94290756e-04  -2.76085700e-03  -3.39967796e-03\n",
      "  -3.38646707e-03  -3.39408959e-03   8.52380757e-04   1.46628280e-03\n",
      "   1.86654889e-03   1.59197263e-03   1.01082298e-03  -5.35985548e-04\n",
      "  -2.75008636e-03  -3.40220178e-03  -3.38657621e-03  -3.39408959e-03\n",
      "   8.83406905e-04   1.46462244e-03   1.74918848e-03   1.43338827e-03\n",
      "   8.62880848e-04   2.24793421e-04  -1.31184382e-03  -2.96963512e-03\n",
      "  -3.38514054e-03  -3.38609761e-03   2.96996344e-06  -1.48711256e-08\n",
      "   1.53584684e-03   1.39282012e-03   1.16337523e-03   5.68884516e-04\n",
      "   0.00000000e+00   0.00000000e+00  -1.93511757e-03  -3.15001649e-03\n",
      "   9.52371013e-04   3.97388836e-07   1.51533558e-03   1.50386751e-03\n",
      "   1.56083825e-03   1.24504563e-03   0.00000000e+00   0.00000000e+00\n",
      "   0.00000000e+00  -9.96785851e-05   7.26714536e-04   1.10671822e-03\n",
      "   2.07720162e-03   2.68238090e-03   2.85251938e-03   2.47519898e-03\n",
      "   1.54771294e-03   3.33035597e-04   1.45409525e-04  -8.16086795e-04\n",
      "   5.71541448e-04   0.00000000e+00   6.84791956e-07   4.86964787e-06\n",
      "   4.71514261e-03   4.51693418e-03   3.22261755e-03   8.59198460e-04\n",
      "  -6.27764161e-04  -3.25004891e-03   6.10372241e-04   1.30484713e-03\n",
      "  -1.81542320e-10   0.00000000e+00   3.99399024e-03   4.28275147e-03\n",
      "   3.89789693e-03   1.17652597e-03  -6.99640006e-04  -3.25395023e-03\n",
      "   7.55315154e-04   1.42600570e-03   3.26723299e-03   2.78030000e-03\n",
      "   0.00000000e+00   2.69361748e-03   2.68773803e-03   4.00957474e-04\n",
      "   1.31165916e-04  -6.43905523e-04   1.04103457e-03   1.23391810e-03\n",
      "   2.53355518e-03   1.95177212e-03   1.34229309e-03   2.45913497e-03\n",
      "   1.35599699e-03   2.25577002e-04   3.59093674e-04   4.13181926e-04\n",
      "   1.73824704e-03   1.75296215e-03   1.56001403e-03   1.85603898e-03\n",
      "   2.03155167e-03   0.00000000e+00   0.00000000e+00   1.05690301e-05\n",
      "  -1.79650185e-03  -3.13133699e-03   2.42723130e-03   4.08349164e-03\n",
      "   3.35769194e-03   2.68042794e-03   1.82021078e-03   0.00000000e+00\n",
      "  -1.47198311e-03  -2.98148399e-03  -3.38589852e-03  -3.38673830e-03\n",
      "   2.56352192e-03   4.87216629e-03   6.15081799e-03   5.45665752e-03\n",
      "   1.50524251e-03  -2.63623444e-07  -2.87489328e-03  -3.40852375e-03\n",
      "  -3.38695750e-03  -3.39408959e-03   2.39704090e-03   4.54129347e-03\n",
      "   6.10745496e-03   5.80449075e-03   1.96898980e-03  -3.78272458e-08\n",
      "  -2.87200872e-03  -3.41578535e-03  -3.38695750e-03  -3.39408959e-03\n",
      "   2.28347421e-03   3.92961432e-03   3.72906545e-03   2.93311358e-03\n",
      "   1.65567922e-03   1.07274695e-04  -1.47738857e-03  -3.00186360e-03\n",
      "  -3.38586811e-03  -3.38673830e-03   1.81070814e-03   1.98654256e-03\n",
      "   1.63308096e-03   1.87710221e-03   2.11428345e-03   1.73716044e-03\n",
      "   9.62081730e-05   4.47001272e-06  -1.87438010e-03  -3.16147946e-03\n",
      "   1.17930242e-03   1.30343477e-03   2.46168584e-03   2.05763181e-03\n",
      "   1.43337240e-03   2.43015840e-03   1.30198122e-03   1.66300146e-04\n",
      "   0.00000000e+00   4.39190904e-04   8.26390918e-04   1.25437238e-03\n",
      "   3.36899014e-03   3.11871477e-03   1.85361900e-03   2.80409587e-03\n",
      "   2.66220504e-03   4.47953898e-04   1.32050594e-04  -6.14531612e-04\n",
      "   6.85542302e-04   1.22728579e-03   2.88816383e-03   3.66256479e-03\n",
      "   3.97134567e-03   4.26316239e-03   4.04526720e-03   1.26241337e-03\n",
      "  -7.16578868e-04  -3.26656256e-03   1.54254306e-03   2.57279698e-03\n",
      "   3.41407089e-03   3.82882061e-03   3.70744689e-03   0.00000000e+00\n",
      "   8.22214410e-06  -1.92330149e-03   1.34879907e-03   2.00233392e-03\n",
      "   3.09392790e-03   4.69458287e-03   2.32132563e-05   0.00000000e+00\n",
      "   0.00000000e+00  -3.36318704e-06   1.32318462e-03   1.66125233e-03\n",
      "   3.26726797e-03   5.10822189e-03   0.00000000e+00   0.00000000e+00\n",
      "   0.00000000e+00  -1.61633810e-03   1.46532569e-03   1.35501706e-06\n",
      "   3.46701170e-03   4.35309661e-03   1.51290042e-03   0.00000000e+00\n",
      "  -3.21317823e-03  -3.38921906e-03   1.65769514e-03   1.55566532e-03\n",
      "   1.71371282e-06   3.61995190e-03   2.38975882e-04  -2.76434318e-03\n",
      "  -3.39067569e-03  -3.39408959e-03   1.67628122e-03   1.74816652e-03\n",
      "   3.88257407e-03   4.15127455e-03   1.33001630e-03   0.00000000e+00\n",
      "  -3.21266611e-03  -3.38921906e-03   1.72893326e-03   2.48144576e-03\n",
      "   3.87248708e-03   4.54202448e-03   3.14256006e-03   0.00000000e+00\n",
      "   0.00000000e+00  -1.61618019e-03   1.90514251e-03   3.10669349e-03\n",
      "   3.60906394e-03   4.06399999e-03   3.60588390e-03   7.78522146e-04\n",
      "   0.00000000e+00  -1.79814519e-06   2.25480646e-03   3.33430530e-03\n",
      "   3.33831165e-03   3.56779526e-03   3.22299431e-03   9.59479311e-04\n",
      "   3.24036960e-05  -1.86468674e-03   2.83764929e-03   3.52199133e-03\n",
      "   3.29060820e-03   3.26096919e-03   2.92844441e-03   9.72227878e-04\n",
      "   7.06649629e-05  -1.86014174e-03   3.15576054e-03   3.74088477e-03\n",
      "   3.46869256e-03   3.34716086e-03   3.04161213e-03   1.17444314e-03\n",
      "   0.00000000e+00   5.17892314e-05   3.32448314e-03   3.21266989e-04\n",
      "   1.97971918e-04   7.21771577e-05   0.00000000e+00   0.00000000e+00\n",
      "   0.00000000e+00  -1.64555534e-03   3.06506609e-03   3.00283556e-05\n",
      "   0.00000000e+00   0.00000000e+00   0.00000000e+00   0.00000000e+00\n",
      "  -3.22723832e-03  -3.38954539e-03   2.45147421e-03   1.40741181e-03\n",
      "   3.30298987e-04   0.00000000e+00   0.00000000e+00  -2.77296898e-03\n",
      "  -3.39176484e-03  -3.39408959e-03   1.98893438e-03   1.52660874e-03\n",
      "   2.73732765e-03   2.40619820e-03   7.26518413e-04   0.00000000e+00\n",
      "  -3.22813315e-03  -3.38954539e-03   1.92747232e-03   3.08059964e-03\n",
      "   3.60164378e-03   3.51013606e-03   2.73713000e-03   0.00000000e+00\n",
      "   0.00000000e+00  -1.64562842e-03   1.87536657e-03   3.36090669e-03\n",
      "   3.44676453e-03   3.36088141e-03   3.03140656e-03   0.00000000e+00\n",
      "   0.00000000e+00   1.95405933e-05   1.63779735e-03   3.08074488e-03\n",
      "   3.39235502e-03   3.33527833e-03   3.02376781e-03   0.00000000e+00\n",
      "   3.90065661e-05  -1.91991981e-03]\n"
     ]
    }
   ],
   "source": [
    "simple_weights_0_penalty = ridge_regression_gradient_descent(simple_feature_matrix, output, initial_weights, step_size=1e-12, l2_penalty=0.1, max_iterations=5000)\n",
    "print simple_weights_0_penalty"
   ]
  },
  {
   "cell_type": "code",
   "execution_count": 113,
   "metadata": {
    "collapsed": false
   },
   "outputs": [
    {
     "name": "stdout",
     "output_type": "stream",
     "text": [
      "1159.84188219\n",
      "1159.84188219\n"
     ]
    }
   ],
   "source": [
    "simple=predict_output(simple_test_feature_matrix,simple_weights_0_penalty)\n",
    "\n",
    "RSS(simple,test_output)\n",
    "RSS_n(simple,test_output)"
   ]
  },
  {
   "cell_type": "markdown",
   "metadata": {},
   "source": [
    "Next, let's consider high regularization.  Set the `l2_penalty` to `1e11` and run your ridge regression algorithm to learn the weights of your model.  Call your weights:\n",
    "\n",
    "`simple_weights_high_penalty`\n",
    "\n",
    "we'll use them later."
   ]
  },
  {
   "cell_type": "code",
   "execution_count": 17,
   "metadata": {
    "collapsed": false
   },
   "outputs": [
    {
     "name": "stdout",
     "output_type": "stream",
     "text": [
      "[ 0.  0.]\n"
     ]
    }
   ],
   "source": [
    "l2_penalty=1e11\n",
    "simple_weights_high_penalty=ridge_regression_gradient_descent(simple_feature_matrix,output,initial_weights, step_size, l2_penalty=1e11, max_iterations=1000)\n",
    "print simple_weights_high_penalty"
   ]
  },
  {
   "cell_type": "markdown",
   "metadata": {},
   "source": [
    "This code will plot the two learned models.  (The blue line is for the model with no regularization and the red line is for the one with high regularization.)"
   ]
  },
  {
   "cell_type": "code",
   "execution_count": 147,
   "metadata": {
    "collapsed": false
   },
   "outputs": [
    {
     "data": {
      "text/plain": [
       "[<matplotlib.lines.Line2D at 0x2debae10>,\n",
       " <matplotlib.lines.Line2D at 0x2de95048>,\n",
       " <matplotlib.lines.Line2D at 0x2de95208>,\n",
       " <matplotlib.lines.Line2D at 0x2de95b70>,\n",
       " <matplotlib.lines.Line2D at 0x2de95cf8>,\n",
       " <matplotlib.lines.Line2D at 0x2deb26a0>]"
      ]
     },
     "execution_count": 147,
     "metadata": {},
     "output_type": "execute_result"
    },
    {
     "data": {
      "image/png": "[encoded data removed]",
      "text/plain": [
       "<matplotlib.figure.Figure at 0x2caa27f0>"
      ]
     },
     "metadata": {},
     "output_type": "display_data"
    }
   ],
   "source": [
    "import matplotlib.pyplot as plt\n",
    "%matplotlib inline\n",
    "plt.plot(simple_feature_matrix,output,'k.',\n",
    "         simple_feature_matrix,predict_output(simple_feature_matrix, simple_weights_0_penalty),'b-',\n",
    "        simple_feature_matrix,predict_output(simple_feature_matrix, simple_weights_high_penalty),'r-')"
   ]
  },
  {
   "cell_type": "markdown",
   "metadata": {},
   "source": [
    "Compute the RSS on the TEST data for the following three sets of weights:\n",
    "1. The initial weights (all zeros)\n",
    "2. The weights learned with no regularization\n",
    "3. The weights learned with high regularization\n",
    "\n",
    "Which weights perform best?"
   ]
  },
  {
   "cell_type": "code",
   "execution_count": 107,
   "metadata": {
    "collapsed": false
   },
   "outputs": [],
   "source": [
    "def RSS(predicted,data):\n",
    "    Rss=0\n",
    "    for i in range(len(predicted)):\n",
    "        diffn=predicted[i]-data[i]\n",
    "        Rss+= diffn*diffn\n",
    "    print (Rss/len(data))\n",
    "#RSS(test_predictions,test_data['price'])"
   ]
  },
  {
   "cell_type": "code",
   "execution_count": 108,
   "metadata": {
    "collapsed": true
   },
   "outputs": [],
   "source": [
    "def RSS_n(predicted,data):\n",
    "    Rss=0\n",
    "    diffn=predicted-data\n",
    "    Rss= sum(diffn*diffn)\n",
    "    print (Rss/len(data))"
   ]
  },
  {
   "cell_type": "code",
   "execution_count": 104,
   "metadata": {
    "collapsed": false
   },
   "outputs": [
    {
     "name": "stdout",
     "output_type": "stream",
     "text": [
      "2038.41565222\n"
     ]
    }
   ],
   "source": [
    "simple=predict_output(simple_test_feature_matrix,simple_weights_0_penalty)\n",
    "\n",
    "RSS(simple,test_output)"
   ]
  },
  {
   "cell_type": "code",
   "execution_count": 120,
   "metadata": {
    "collapsed": false
   },
   "outputs": [
    {
     "name": "stdout",
     "output_type": "stream",
     "text": [
      "231.014487787\n"
     ]
    }
   ],
   "source": [
    "a=sum((simple-test_output)*(simple-test_output))\n",
    "print a/len(ctscan)"
   ]
  },
  {
   "cell_type": "code",
   "execution_count": 114,
   "metadata": {
    "collapsed": false
   },
   "outputs": [
    {
     "name": "stdout",
     "output_type": "stream",
     "text": [
      "PROGRESS: Creating a validation set from 5 percent of training data. This may take a while.\n",
      "          You can set ``validation_set=None`` to disable validation tracking.\n",
      "\n"
     ]
    },
    {
     "data": {
      "text/html": [
       "<pre>WARNING: Detected extremely low variance for feature(s) '2', '5', '6', '7', '17', '18', '29', '30', '39', '61', '71', '88', '89', '98', '99', '100', '113', '125', '136', '157', '158', '167', '181', '191', '220', '247', '255', '256', '262', '263', '264', '271', '281', '287', '295', '296', '304', '328', '334', '335', '336', '340', '341', '342', '343', '349', '350', '353', '359', '367', '368', '375', '376', '383', 'constant' because all entries are nearly the same.\n",
       "Proceeding with model training using all features. If the model does not provide results of adequate quality, exclude the above mentioned feature(s) from the input dataset.</pre>"
      ],
      "text/plain": [
       "WARNING: Detected extremely low variance for feature(s) '2', '5', '6', '7', '17', '18', '29', '30', '39', '61', '71', '88', '89', '98', '99', '100', '113', '125', '136', '157', '158', '167', '181', '191', '220', '247', '255', '256', '262', '263', '264', '271', '281', '287', '295', '296', '304', '328', '334', '335', '336', '340', '341', '342', '343', '349', '350', '353', '359', '367', '368', '375', '376', '383', 'constant' because all entries are nearly the same.\n",
       "Proceeding with model training using all features. If the model does not provide results of adequate quality, exclude the above mentioned feature(s) from the input dataset."
      ]
     },
     "metadata": {},
     "output_type": "display_data"
    },
    {
     "data": {
      "text/html": [
       "<pre>Linear regression:</pre>"
      ],
      "text/plain": [
       "Linear regression:"
      ]
     },
     "metadata": {},
     "output_type": "display_data"
    },
    {
     "data": {
      "text/html": [
       "<pre>--------------------------------------------------------</pre>"
      ],
      "text/plain": [
       "--------------------------------------------------------"
      ]
     },
     "metadata": {},
     "output_type": "display_data"
    },
    {
     "data": {
      "text/html": [
       "<pre>Number of examples          : 40723</pre>"
      ],
      "text/plain": [
       "Number of examples          : 40723"
      ]
     },
     "metadata": {},
     "output_type": "display_data"
    },
    {
     "data": {
      "text/html": [
       "<pre>Number of features          : 386</pre>"
      ],
      "text/plain": [
       "Number of features          : 386"
      ]
     },
     "metadata": {},
     "output_type": "display_data"
    },
    {
     "data": {
      "text/html": [
       "<pre>Number of unpacked features : 386</pre>"
      ],
      "text/plain": [
       "Number of unpacked features : 386"
      ]
     },
     "metadata": {},
     "output_type": "display_data"
    },
    {
     "data": {
      "text/html": [
       "<pre>Number of coefficients    : 387</pre>"
      ],
      "text/plain": [
       "Number of coefficients    : 387"
      ]
     },
     "metadata": {},
     "output_type": "display_data"
    },
    {
     "data": {
      "text/html": [
       "<pre>Starting Newton Method</pre>"
      ],
      "text/plain": [
       "Starting Newton Method"
      ]
     },
     "metadata": {},
     "output_type": "display_data"
    },
    {
     "data": {
      "text/html": [
       "<pre>--------------------------------------------------------</pre>"
      ],
      "text/plain": [
       "--------------------------------------------------------"
      ]
     },
     "metadata": {},
     "output_type": "display_data"
    },
    {
     "data": {
      "text/html": [
       "<pre>+-----------+----------+--------------+--------------------+----------------------+---------------+-----------------+</pre>"
      ],
      "text/plain": [
       "+-----------+----------+--------------+--------------------+----------------------+---------------+-----------------+"
      ]
     },
     "metadata": {},
     "output_type": "display_data"
    },
    {
     "data": {
      "text/html": [
       "<pre>| Iteration | Passes   | Elapsed Time | Training-max_error | Validation-max_error | Training-rmse | Validation-rmse |</pre>"
      ],
      "text/plain": [
       "| Iteration | Passes   | Elapsed Time | Training-max_error | Validation-max_error | Training-rmse | Validation-rmse |"
      ]
     },
     "metadata": {},
     "output_type": "display_data"
    },
    {
     "data": {
      "text/html": [
       "<pre>+-----------+----------+--------------+--------------------+----------------------+---------------+-----------------+</pre>"
      ],
      "text/plain": [
       "+-----------+----------+--------------+--------------------+----------------------+---------------+-----------------+"
      ]
     },
     "metadata": {},
     "output_type": "display_data"
    },
    {
     "data": {
      "text/html": [
       "<pre>| 1         | 2        | 2.644044     | 53.434562          | 49.916695            | 8.684138      | 8.795124        |</pre>"
      ],
      "text/plain": [
       "| 1         | 2        | 2.644044     | 53.434562          | 49.916695            | 8.684138      | 8.795124        |"
      ]
     },
     "metadata": {},
     "output_type": "display_data"
    },
    {
     "data": {
      "text/html": [
       "<pre>+-----------+----------+--------------+--------------------+----------------------+---------------+-----------------+</pre>"
      ],
      "text/plain": [
       "+-----------+----------+--------------+--------------------+----------------------+---------------+-----------------+"
      ]
     },
     "metadata": {},
     "output_type": "display_data"
    },
    {
     "data": {
      "text/html": [
       "<pre>SUCCESS: Optimal solution found.</pre>"
      ],
      "text/plain": [
       "SUCCESS: Optimal solution found."
      ]
     },
     "metadata": {},
     "output_type": "display_data"
    },
    {
     "data": {
      "text/html": [
       "<pre></pre>"
      ],
      "text/plain": []
     },
     "metadata": {},
     "output_type": "display_data"
    }
   ],
   "source": [
    "model_ridge = graphlab.linear_regression.create(train_data, '386', l2_penalty=0.1,max_iterations=1000)"
   ]
  },
  {
   "cell_type": "code",
   "execution_count": 115,
   "metadata": {
    "collapsed": false
   },
   "outputs": [
    {
     "data": {
      "text/html": [
       "<div style=\"max-height:1000px;max-width:1500px;overflow:auto;\"><table frame=\"box\" rules=\"cols\">\n",
       "    <tr>\n",
       "        <th style=\"padding-left: 1em; padding-right: 1em; text-align: center\">name</th>\n",
       "        <th style=\"padding-left: 1em; padding-right: 1em; text-align: center\">index</th>\n",
       "        <th style=\"padding-left: 1em; padding-right: 1em; text-align: center\">value</th>\n",
       "        <th style=\"padding-left: 1em; padding-right: 1em; text-align: center\">stderr</th>\n",
       "    </tr>\n",
       "    <tr>\n",
       "        <td style=\"padding-left: 1em; padding-right: 1em; text-align: center; vertical-align: top\">(intercept)</td>\n",
       "        <td style=\"padding-left: 1em; padding-right: 1em; text-align: center; vertical-align: top\">None</td>\n",
       "        <td style=\"padding-left: 1em; padding-right: 1em; text-align: center; vertical-align: top\">42.9831342916</td>\n",
       "        <td style=\"padding-left: 1em; padding-right: 1em; text-align: center; vertical-align: top\">inf</td>\n",
       "    </tr>\n",
       "    <tr>\n",
       "        <td style=\"padding-left: 1em; padding-right: 1em; text-align: center; vertical-align: top\">1</td>\n",
       "        <td style=\"padding-left: 1em; padding-right: 1em; text-align: center; vertical-align: top\">None</td>\n",
       "        <td style=\"padding-left: 1em; padding-right: 1em; text-align: center; vertical-align: top\">0.0199379863647</td>\n",
       "        <td style=\"padding-left: 1em; padding-right: 1em; text-align: center; vertical-align: top\">nan</td>\n",
       "    </tr>\n",
       "    <tr>\n",
       "        <td style=\"padding-left: 1em; padding-right: 1em; text-align: center; vertical-align: top\">2</td>\n",
       "        <td style=\"padding-left: 1em; padding-right: 1em; text-align: center; vertical-align: top\">None</td>\n",
       "        <td style=\"padding-left: 1em; padding-right: 1em; text-align: center; vertical-align: top\">0.0</td>\n",
       "        <td style=\"padding-left: 1em; padding-right: 1em; text-align: center; vertical-align: top\">nan</td>\n",
       "    </tr>\n",
       "    <tr>\n",
       "        <td style=\"padding-left: 1em; padding-right: 1em; text-align: center; vertical-align: top\">3</td>\n",
       "        <td style=\"padding-left: 1em; padding-right: 1em; text-align: center; vertical-align: top\">None</td>\n",
       "        <td style=\"padding-left: 1em; padding-right: 1em; text-align: center; vertical-align: top\">3.8371322772</td>\n",
       "        <td style=\"padding-left: 1em; padding-right: 1em; text-align: center; vertical-align: top\">nan</td>\n",
       "    </tr>\n",
       "    <tr>\n",
       "        <td style=\"padding-left: 1em; padding-right: 1em; text-align: center; vertical-align: top\">4</td>\n",
       "        <td style=\"padding-left: 1em; padding-right: 1em; text-align: center; vertical-align: top\">None</td>\n",
       "        <td style=\"padding-left: 1em; padding-right: 1em; text-align: center; vertical-align: top\">1.07203660296</td>\n",
       "        <td style=\"padding-left: 1em; padding-right: 1em; text-align: center; vertical-align: top\">nan</td>\n",
       "    </tr>\n",
       "    <tr>\n",
       "        <td style=\"padding-left: 1em; padding-right: 1em; text-align: center; vertical-align: top\">5</td>\n",
       "        <td style=\"padding-left: 1em; padding-right: 1em; text-align: center; vertical-align: top\">None</td>\n",
       "        <td style=\"padding-left: 1em; padding-right: 1em; text-align: center; vertical-align: top\">0.0</td>\n",
       "        <td style=\"padding-left: 1em; padding-right: 1em; text-align: center; vertical-align: top\">nan</td>\n",
       "    </tr>\n",
       "    <tr>\n",
       "        <td style=\"padding-left: 1em; padding-right: 1em; text-align: center; vertical-align: top\">6</td>\n",
       "        <td style=\"padding-left: 1em; padding-right: 1em; text-align: center; vertical-align: top\">None</td>\n",
       "        <td style=\"padding-left: 1em; padding-right: 1em; text-align: center; vertical-align: top\">0.0</td>\n",
       "        <td style=\"padding-left: 1em; padding-right: 1em; text-align: center; vertical-align: top\">nan</td>\n",
       "    </tr>\n",
       "    <tr>\n",
       "        <td style=\"padding-left: 1em; padding-right: 1em; text-align: center; vertical-align: top\">7</td>\n",
       "        <td style=\"padding-left: 1em; padding-right: 1em; text-align: center; vertical-align: top\">None</td>\n",
       "        <td style=\"padding-left: 1em; padding-right: 1em; text-align: center; vertical-align: top\">0.0</td>\n",
       "        <td style=\"padding-left: 1em; padding-right: 1em; text-align: center; vertical-align: top\">nan</td>\n",
       "    </tr>\n",
       "    <tr>\n",
       "        <td style=\"padding-left: 1em; padding-right: 1em; text-align: center; vertical-align: top\">8</td>\n",
       "        <td style=\"padding-left: 1em; padding-right: 1em; text-align: center; vertical-align: top\">None</td>\n",
       "        <td style=\"padding-left: 1em; padding-right: 1em; text-align: center; vertical-align: top\">2.01475707431</td>\n",
       "        <td style=\"padding-left: 1em; padding-right: 1em; text-align: center; vertical-align: top\">nan</td>\n",
       "    </tr>\n",
       "    <tr>\n",
       "        <td style=\"padding-left: 1em; padding-right: 1em; text-align: center; vertical-align: top\">9</td>\n",
       "        <td style=\"padding-left: 1em; padding-right: 1em; text-align: center; vertical-align: top\">None</td>\n",
       "        <td style=\"padding-left: 1em; padding-right: 1em; text-align: center; vertical-align: top\">2.69403775814</td>\n",
       "        <td style=\"padding-left: 1em; padding-right: 1em; text-align: center; vertical-align: top\">nan</td>\n",
       "    </tr>\n",
       "</table>\n",
       "[387 rows x 4 columns]<br/>Note: Only the head of the SFrame is printed.<br/>You can use print_rows(num_rows=m, num_columns=n) to print more rows and columns.\n",
       "</div>"
      ],
      "text/plain": [
       "Columns:\n",
       "\tname\tstr\n",
       "\tindex\tstr\n",
       "\tvalue\tfloat\n",
       "\tstderr\tfloat\n",
       "\n",
       "Rows: 387\n",
       "\n",
       "Data:\n",
       "+-------------+-------+-----------------+--------+\n",
       "|     name    | index |      value      | stderr |\n",
       "+-------------+-------+-----------------+--------+\n",
       "| (intercept) |  None |  42.9831342916  |  inf   |\n",
       "|      1      |  None | 0.0199379863647 |  nan   |\n",
       "|      2      |  None |       0.0       |  nan   |\n",
       "|      3      |  None |   3.8371322772  |  nan   |\n",
       "|      4      |  None |  1.07203660296  |  nan   |\n",
       "|      5      |  None |       0.0       |  nan   |\n",
       "|      6      |  None |       0.0       |  nan   |\n",
       "|      7      |  None |       0.0       |  nan   |\n",
       "|      8      |  None |  2.01475707431  |  nan   |\n",
       "|      9      |  None |  2.69403775814  |  nan   |\n",
       "+-------------+-------+-----------------+--------+\n",
       "[387 rows x 4 columns]\n",
       "Note: Only the head of the SFrame is printed.\n",
       "You can use print_rows(num_rows=m, num_columns=n) to print more rows and columns."
      ]
     },
     "execution_count": 115,
     "metadata": {},
     "output_type": "execute_result"
    }
   ],
   "source": [
    "model_ridge['coefficients']"
   ]
  },
  {
   "cell_type": "code",
   "execution_count": null,
   "metadata": {
    "collapsed": true
   },
   "outputs": [],
   "source": []
  },
  {
   "cell_type": "markdown",
   "metadata": {
    "collapsed": false
   },
   "source": [
    "***QUIZ QUESTIONS***\n",
    "1. What is the value of the coefficient for `sqft_living` that you learned with no regularization, rounded to 1 decimal place?  What about the one with high regularization?\n",
    "2. Comparing the lines you fit with the with no regularization versus high regularization, which one is steeper?\n",
    "3. What are the RSS on the test data for each of the set of weights above (initial, no regularization, high regularization)? \n"
   ]
  },
  {
   "cell_type": "markdown",
   "metadata": {},
   "source": [
    "# Running a multiple regression with L2 penalty"
   ]
  },
  {
   "cell_type": "markdown",
   "metadata": {},
   "source": [
    "Let us now consider a model with 2 features: `['sqft_living', 'sqft_living15']`."
   ]
  },
  {
   "cell_type": "markdown",
   "metadata": {},
   "source": [
    "First, create Numpy versions of your training and test data with these two features. "
   ]
  },
  {
   "cell_type": "code",
   "execution_count": 184,
   "metadata": {
    "collapsed": true
   },
   "outputs": [],
   "source": [
    "train_data,test_data = sales.random_split(.8,seed=0)\n",
    "model_features = ['sqft_living', 'sqft_living15'] # sqft_living15 is the average squarefeet for the nearest 15 neighbors. \n",
    "my_output = 'price'\n",
    "(feature_matrix, output) = get_numpy_data(train_data, model_features, my_output)\n",
    "(test_feature_matrix, test_output) = get_numpy_data(test_data, model_features, my_output)"
   ]
  },
  {
   "cell_type": "markdown",
   "metadata": {},
   "source": [
    "We need to re-inialize the weights, since we have one extra parameter. Let us also set the step size and maximum number of iterations."
   ]
  },
  {
   "cell_type": "code",
   "execution_count": 94,
   "metadata": {
    "collapsed": true
   },
   "outputs": [],
   "source": [
    "initial_weights = np.array([0.0,0.0,0.0])\n",
    "step_size = 1e-12\n",
    "max_iterations = 5000\n",
    "\n",
    "\n",
    "\n",
    "\n",
    "\n",
    "\n",
    "\n"
   ]
  },
  {
   "cell_type": "markdown",
   "metadata": {},
   "source": [
    "First, let's consider no regularization.  Set the `l2_penalty` to `0.0` and run your ridge regression algorithm to learn the weights of your model.  Call your weights:\n",
    "\n",
    "`multiple_weights_0_penalty`"
   ]
  },
  {
   "cell_type": "code",
   "execution_count": 186,
   "metadata": {
    "collapsed": false
   },
   "outputs": [
    {
     "data": {
      "text/plain": [
       "array([   0.        ,  243.05414951,   22.41467646])"
      ]
     },
     "execution_count": 186,
     "metadata": {},
     "output_type": "execute_result"
    }
   ],
   "source": [
    "#l2_penalty=0.0\n",
    "multiple_weights_0_penalty=ridge_regression_gradient_descent(feature_matrix,output,initial_weights, step_size, l2_penalty=0.0, max_iterations=1000)\n",
    "multiple_weights_0_penalty"
   ]
  },
  {
   "cell_type": "markdown",
   "metadata": {},
   "source": [
    "Next, let's consider high regularization.  Set the `l2_penalty` to `1e11` and run your ridge regression algorithm to learn the weights of your model.  Call your weights:\n",
    "\n",
    "`multiple_weights_high_penalty`"
   ]
  },
  {
   "cell_type": "code",
   "execution_count": 187,
   "metadata": {
    "collapsed": false
   },
   "outputs": [
    {
     "data": {
      "text/plain": [
       "array([  0.        ,  91.49017202,  78.43749488])"
      ]
     },
     "execution_count": 187,
     "metadata": {},
     "output_type": "execute_result"
    }
   ],
   "source": [
    "multiple_weights_high_penalty=ridge_regression_gradient_descent(feature_matrix,output,initial_weights, step_size, l2_penalty=1e11, max_iterations=100)\n",
    "multiple_weights_high_penalty"
   ]
  },
  {
   "cell_type": "markdown",
   "metadata": {},
   "source": [
    "Compute the RSS on the TEST data for the following three sets of weights:\n",
    "1. The initial weights (all zeros)\n",
    "2. The weights learned with no regularization\n",
    "3. The weights learned with high regularization\n",
    "\n",
    "Which weights perform best?"
   ]
  },
  {
   "cell_type": "code",
   "execution_count": 167,
   "metadata": {
    "collapsed": false
   },
   "outputs": [
    {
     "name": "stdout",
     "output_type": "stream",
     "text": [
      "1.78427328252e+15\n"
     ]
    }
   ],
   "source": [
    "# with initial weights =0 we have only noise\n",
    "initial_weights = np.array([0.0,0.0,0.0])\n",
    "pred_initial=predict_output(test_feature_matrix,initial_weights)\n",
    "RSS(pred_initial,test_data['price'])"
   ]
  },
  {
   "cell_type": "code",
   "execution_count": 168,
   "metadata": {
    "collapsed": false
   },
   "outputs": [
    {
     "name": "stdout",
     "output_type": "stream",
     "text": [
      "2.74067647086e+14\n",
      "2.74067647086e+14\n"
     ]
    }
   ],
   "source": [
    "# with No regularization\n",
    "pred_no_penty=predict_output(test_feature_matrix,multiple_weights_0_penalty)\n",
    "\n",
    "RSS(pred_no_penty,test_data['price'])\n",
    "RSS_n(pred_no_penty,test_data['price'])\n",
    "\n",
    "\n"
   ]
  },
  {
   "cell_type": "code",
   "execution_count": null,
   "metadata": {
    "collapsed": false
   },
   "outputs": [],
   "source": []
  },
  {
   "cell_type": "code",
   "execution_count": 125,
   "metadata": {
    "collapsed": false
   },
   "outputs": [
    {
     "data": {
      "text/plain": [
       "array([   0.        ,  153.64339914,  119.9018408 ])"
      ]
     },
     "execution_count": 125,
     "metadata": {},
     "output_type": "execute_result"
    }
   ],
   "source": [
    "#l2_penalty=0.0\n",
    "multiple_weights_0_penalty=ridge_regression_gradient_descent(test_feature_matrix,test_output,initial_weights, step_size, l2_penalty=0.0, max_iterations=100)\n",
    "multiple_weights_0_penalty"
   ]
  },
  {
   "cell_type": "markdown",
   "metadata": {},
   "source": [
    "Predict the house price for the 1st house in the test set using the no regularization and high regularization models. (Remember that python starts indexing from 0.) How far is the prediction from the actual price?  Which weights perform best for the 1st house?"
   ]
  },
  {
   "cell_type": "code",
   "execution_count": 126,
   "metadata": {
    "collapsed": false
   },
   "outputs": [
    {
     "data": {
      "text/plain": [
       "array([  0.        ,  41.15491171,  36.86754149])"
      ]
     },
     "execution_count": 126,
     "metadata": {},
     "output_type": "execute_result"
    }
   ],
   "source": [
    "multiple_weights_high_penalty=ridge_regression_gradient_descent(test_feature_matrix,test_output,initial_weights, step_size, l2_penalty=1e11, max_iterations=100)\n",
    "multiple_weights_high_penalty"
   ]
  },
  {
   "cell_type": "code",
   "execution_count": 165,
   "metadata": {
    "collapsed": false
   },
   "outputs": [
    {
     "name": "stdout",
     "output_type": "stream",
     "text": [
      "2.74067647086e+14\n",
      "2.74067647086e+14\n",
      "5.00408548924e+14\n",
      "5.00408548924e+14\n"
     ]
    }
   ],
   "source": [
    "pred_no_penty=predict_output(test_feature_matrix[0],multiple_weights_0_penalty)\n",
    "pred_high_penty=predict_output(test_feature_matrix[0],multiple_weights_high_penalty)\n",
    "RSS(pred_no_penty,test_data['price'])\n",
    "RSS_n(pred_no_penty,test_data['price'])\n",
    "RSS(pred_high_penty,test_data['price'])\n",
    "RSS_n(pred_high_penty,test_data['price'])\n",
    "\n"
   ]
  },
  {
   "cell_type": "code",
   "execution_count": 189,
   "metadata": {
    "collapsed": false
   },
   "outputs": [
    {
     "name": "stdout",
     "output_type": "stream",
     "text": [
      "{'bathrooms': 1.0, 'sqft_above': 1430L, 'grade': 7L, 'lat': 47.75584254, 'floors': '1.5', 'constant': 1L, 'yr_renovated': 0L, 'id': '0114101516', 'date': datetime.datetime(2014, 5, 28, 0, 0, tzinfo=GMT +0.0), 'zipcode': '98028', 'long': -122.22874498, 'sqft_basement': 0L, 'yr_built': 1927L, 'sqft_lot': 19901L, 'sqft_lot15': 12697.0, 'price': 310000.0, 'bedrooms': 3.0, 'waterfront': 0L, 'condition': 4L, 'sqft_living15': 1780.0, 'sqft_living': 1430.0, 'view': 0L}\n",
      "387465.557898\n",
      "270449.686886\n"
     ]
    }
   ],
   "source": [
    "pred_no_penty=predict_output(test_feature_matrix[0],multiple_weights_0_penalty)\n",
    "pred_high_penty=predict_output(test_feature_matrix[0],multiple_weights_high_penalty)\n",
    "print(test_data[0])\n",
    "print(pred_no_penty)\n",
    "print(pred_high_penty)"
   ]
  },
  {
   "cell_type": "markdown",
   "metadata": {
    "collapsed": true
   },
   "source": [
    "***QUIZ QUESTIONS***\n",
    "1. What is the value of the coefficient for `sqft_living` that you learned with no regularization, rounded to 1 decimal place?  What about the one with high regularization?\n",
    "2. What are the RSS on the test data for each of the set of weights above (initial, no regularization, high regularization)? \n",
    "3. We make prediction for the first house in the test set using two sets of weights (no regularization vs high regularization). Which weights make better prediction <u>for that particular house</u>?"
   ]
  },
  {
   "cell_type": "code",
   "execution_count": null,
   "metadata": {
    "collapsed": true
   },
   "outputs": [],
   "source": []
  },
  {
   "cell_type": "code",
   "execution_count": null,
   "metadata": {
    "collapsed": true
   },
   "outputs": [],
   "source": []
  },
  {
   "cell_type": "code",
   "execution_count": null,
   "metadata": {
    "collapsed": true
   },
   "outputs": [],
   "source": []
  },
  {
   "cell_type": "code",
   "execution_count": null,
   "metadata": {
    "collapsed": true
   },
   "outputs": [],
   "source": []
  },
  {
   "cell_type": "code",
   "execution_count": null,
   "metadata": {
    "collapsed": true
   },
   "outputs": [],
   "source": []
  },
  {
   "cell_type": "code",
   "execution_count": null,
   "metadata": {
    "collapsed": true
   },
   "outputs": [],
   "source": []
  },
  {
   "cell_type": "code",
   "execution_count": null,
   "metadata": {
    "collapsed": true
   },
   "outputs": [],
   "source": []
  },
  {
   "cell_type": "code",
   "execution_count": null,
   "metadata": {
    "collapsed": true
   },
   "outputs": [],
   "source": [
    "sales = graphlab.SFrame('kc_house_data/')\n",
    "sales\n",
    "\n",
    "import numpy"
   ]
  },
  {
   "cell_type": "code",
   "execution_count": null,
   "metadata": {
    "collapsed": true
   },
   "outputs": [],
   "source": [
    "def get_numpy_data(data_sframe, features, output):\n",
    "    data_sframe['constant'] = 1 # this is how you add a constant column to an SFrame\n",
    "    the others:\n",
    "    features = ['constant'] + features # this is how you combine two lists\n",
    "    # select the columns of data_SFrame given by the features list into the SFrame features_sframe (now including constant):\n",
    "    features_sframe=data_sframe[features]\n",
    "    # the following line will convert the features_SFrame into a numpy matrix:\n",
    "    feature_matrix = features_sframe.to_numpy()\n",
    "  \n",
    "    output_sarray=data_sframe[output]\n",
    "\n",
    "    # the following will convert the SArray into a numpy array by first converting it to a list\n",
    "    output_array = output_sarray.to_numpy()\n",
    "    return(feature_matrix, output_array)"
   ]
  }
 ],
 "metadata": {
  "anaconda-cloud": {},
  "kernelspec": {
   "display_name": "Python 2",
   "language": "python",
   "name": "python2"
  },
  "language_info": {
   "codemirror_mode": {
    "name": "ipython",
    "version": 2
   },
   "file_extension": ".py",
   "mimetype": "text/x-python",
   "name": "python",
   "nbconvert_exporter": "python",
   "pygments_lexer": "ipython2",
   "version": "2.7.11"
  }
 },
 "nbformat": 4,
 "nbformat_minor": 0
}
